{
 "cells": [
  {
   "cell_type": "markdown",
   "metadata": {},
   "source": [
    "# Navigation\n",
    "\n",
    "---\n",
    "\n",
    "This notebook shows how to use the Unity ML-Agents environment, how to implement a DQN agent that utilizes an experience replay buffer and fixed Q-targets. The goal is to train an agent to collect yellow bananas in a 2D gameplay while avoiding blue bananas in the given environment."
   ]
  },
  {
   "cell_type": "markdown",
   "metadata": {},
   "source": [
    "### 0. The Learning Algorithm\n",
    "\n",
    "The basis of the implemented learning algorithm is called Sarsamax or Q-learning. It's an off-policy Temporal-Difference (TD) control method that updates the value function estimate after every ($C$) time step/s. It is guaranteed to converge as long as the stepsize parameter LR (the learning rate) is sufficiently small and epsilon is chosen to satisfy the Greedy in the Limit with Infinite Exploration (GLIE) conditions. Algorithm taken from *Reinforcment Learning, An introduction, second edition, by Richard S. Sutton and Andrew G. Barto*.\n",
    "\n",
    "<img src=\"qlearning.png\" width=\"500\" align=\"center\" title=\"Q-Learning Algorithm\">\n",
    "\n",
    "We implemented a version of Deep Q-Learning or DQN based on Mnih et al. (paper: [Human-level control through deep reinforcement learning](https://web.stanford.edu/class/psych209/Readings/MnihEtAlHassibis15NatureControlDeepRL.pdf)) that uses deep neural networks to approximate the optimal action-value function and enhances performance via two techniques: *Experience Replay*, and *Fixed Q-targets*. The Q-learning update at iteration $i$ uses the following loss\n",
    "function:\n",
    "\n",
    "<img src=\"q-update.png\" width=\"350\" align=\"center\" title=\"Q-Learning Update at iteration i\">\n",
    "\n",
    ">in which $\\gamma$ is the discount factor determining the agent’s horizon, $\\theta_{i}$ are the parameters of the Q-network at iteration $i$ and $\\theta_{i}^{-b}$ are the network parameters used to compute the target at iteration $i$. \n",
    "\n",
    "The chosen hyperparameters for our implementation are:\n",
    "- SEED = 0\n",
    "- GAMMA = 0.99\n",
    "- EPS_STRT = 1.0\n",
    "- EPS_END = 0.002\n",
    "- EPS_DECAY = 0.99\n",
    "- LR = 0.002\n",
    "- TAU = 0.001\n",
    "- BUFFER_SIZE = 100000 \n",
    "- BATCH_SIZE = 64\n",
    "- C = 4\n",
    "\n",
    "The chosen model architecture for the (two) neural nets are as follows and we use ```Dropout(p=0.02)```:\n",
    "\n",
    "```python\n",
    "QNet(\n",
    "  (fc1): Linear(in_features=37, out_features=128, bias=True)\n",
    "  (fc2): Linear(in_features=128, out_features=128, bias=True)\n",
    "  (fc3): Linear(in_features=128, out_features=64, bias=True)\n",
    "  (fc4): Linear(in_features=64, out_features=64, bias=True)\n",
    "  (fc5): Linear(in_features=64, out_features=4, bias=True)\n",
    ")\n",
    "```\n"
   ]
  },
  {
   "cell_type": "markdown",
   "metadata": {},
   "source": [
    "### 1. Start the Environment\n",
    "\n",
    "Importing some necessary packages. If the code cell below returns an error, please double-check that you have installed [Unity ML-Agents](https://github.com/Unity-Technologies/ml-agents/blob/master/docs/Installation.md) and [NumPy](http://www.numpy.org/) properly."
   ]
  },
  {
   "cell_type": "code",
   "execution_count": 1,
   "metadata": {},
   "outputs": [],
   "source": [
    "from unityagents import UnityEnvironment\n",
    "import numpy as np"
   ]
  },
  {
   "cell_type": "markdown",
   "metadata": {},
   "source": [
    "**_Before running the code cell below_**: if you do not run this notebook on Mac OSX go back to the ```README.md``` file (see Dependencies 3.) to download a different version (Widows, Linux) of the ```Banana.app``` file and change the `file_name` path accordingly."
   ]
  },
  {
   "cell_type": "code",
   "execution_count": 2,
   "metadata": {},
   "outputs": [
    {
     "name": "stderr",
     "output_type": "stream",
     "text": [
      "INFO:unityagents:\n",
      "'Academy' started successfully!\n",
      "Unity Academy name: Academy\n",
      "        Number of Brains: 1\n",
      "        Number of External Brains : 1\n",
      "        Lesson number : 0\n",
      "        Reset Parameters :\n",
      "\t\t\n",
      "Unity brain name: BananaBrain\n",
      "        Number of Visual Observations (per agent): 0\n",
      "        Vector Observation space type: continuous\n",
      "        Vector Observation space size (per agent): 37\n",
      "        Number of stacked Vector Observation: 1\n",
      "        Vector Action space type: discrete\n",
      "        Vector Action space size (per agent): 4\n",
      "        Vector Action descriptions: , , , \n"
     ]
    }
   ],
   "source": [
    "env = UnityEnvironment(file_name=\"Banana.app\")"
   ]
  },
  {
   "cell_type": "markdown",
   "metadata": {},
   "source": [
    "Environments contain **_brains_** which are responsible for deciding the actions of their associated agents. Here we check for the first brain available, and set it as the default brain we will be controlling from Python."
   ]
  },
  {
   "cell_type": "code",
   "execution_count": 3,
   "metadata": {},
   "outputs": [],
   "source": [
    "# get the default brain\n",
    "brain_name = env.brain_names[0]\n",
    "brain = env.brains[brain_name]"
   ]
  },
  {
   "cell_type": "markdown",
   "metadata": {},
   "source": [
    "### 2. Examine the State and Action Spaces\n",
    "\n",
    "The simulation contains a single agent that navigates a large environment.  At each time step, it has four actions at its disposal:\n",
    "- `0` - walk forward \n",
    "- `1` - walk backward\n",
    "- `2` - turn left\n",
    "- `3` - turn right\n",
    "\n",
    "The state space has `37` dimensions and contains the agent's velocity, along with ray-based perception of objects around agent's forward direction.  A reward of `+1` is provided for collecting a yellow banana, and a reward of `-1` is provided for collecting a blue banana. \n",
    "\n",
    "This is how a trained agent moves inside the environment (.gif taken from Udacity):\n",
    "\n",
    "<img src=\"banana.gif\" width=\"450\" align=\"center\" title=\"Banana environment\">\n",
    "\n",
    "\n",
    "Run the code cell below to print some information about the environment."
   ]
  },
  {
   "cell_type": "code",
   "execution_count": 4,
   "metadata": {},
   "outputs": [
    {
     "name": "stdout",
     "output_type": "stream",
     "text": [
      "Number of agents: 1\n",
      "Number of actions: 4\n",
      "States look like: [1.         0.         0.         0.         0.84408134 0.\n",
      " 0.         1.         0.         0.0748472  0.         1.\n",
      " 0.         0.         0.25755    1.         0.         0.\n",
      " 0.         0.74177343 0.         1.         0.         0.\n",
      " 0.25854847 0.         0.         1.         0.         0.09355672\n",
      " 0.         1.         0.         0.         0.31969345 0.\n",
      " 0.        ]\n",
      "States have length: 37\n"
     ]
    }
   ],
   "source": [
    "# reset the environment\n",
    "env_info = env.reset(train_mode=True)[brain_name]\n",
    "\n",
    "# number of agents in the environment\n",
    "print('Number of agents:', len(env_info.agents))\n",
    "\n",
    "# number of actions\n",
    "action_size = brain.vector_action_space_size\n",
    "print('Number of actions:', action_size)\n",
    "\n",
    "# examine the state space \n",
    "state = env_info.vector_observations[0]\n",
    "print('States look like:', state)\n",
    "state_size = len(state)\n",
    "print('States have length:', state_size)"
   ]
  },
  {
   "cell_type": "markdown",
   "metadata": {},
   "source": [
    "### 3. Take Random Actions in the Environment\n",
    "\n",
    "In the next code cell, you will see how to use the Python API to control the agent and receive feedback from the environment.\n",
    "\n",
    "Once this cell is executed, you will watch the agent's performance, when it selects an action (uniformly) at random at each time step.  A window should pop up that allows you to observe the agent, as it moves through the environment (check the ```README.md``` file for more details).  \n",
    "\n",
    "Of course, the goal is to train an agent that is able to use its experience to gradually choose better actions when interacting with the environment!\n",
    "\n",
    "**_Only uncomment and run the next two cells if you want to see a random agent._**"
   ]
  },
  {
   "cell_type": "code",
   "execution_count": 5,
   "metadata": {},
   "outputs": [
    {
     "data": {
      "text/plain": [
       "'\\nenv_info = env.reset(train_mode=False)[brain_name] # reset the environment\\nstate = env_info.vector_observations[0]            # get the current state\\nscore = 0                                          # initialize the score\\nwhile True:\\n    action = np.random.randint(action_size)        # select an action\\n    env_info = env.step(action)[brain_name]        # send the action to the environment\\n    next_state = env_info.vector_observations[0]   # get the next state\\n    reward = env_info.rewards[0]                   # get the reward\\n    done = env_info.local_done[0]                  # see if episode has finished\\n    score += reward                                # update the score\\n    state = next_state                             # roll over the state to next time step\\n    if done:                                       # exit loop if episode finished\\n        break\\n    \\nprint(\"Score: {}\".format(score))\\n'"
      ]
     },
     "execution_count": 5,
     "metadata": {},
     "output_type": "execute_result"
    }
   ],
   "source": [
    "\"\"\"\n",
    "env_info = env.reset(train_mode=False)[brain_name] # reset the environment\n",
    "state = env_info.vector_observations[0]            # get the current state\n",
    "score = 0                                          # initialize the score\n",
    "while True:\n",
    "    action = np.random.randint(action_size)        # select an action\n",
    "    env_info = env.step(action)[brain_name]        # send the action to the environment\n",
    "    next_state = env_info.vector_observations[0]   # get the next state\n",
    "    reward = env_info.rewards[0]                   # get the reward\n",
    "    done = env_info.local_done[0]                  # see if episode has finished\n",
    "    score += reward                                # update the score\n",
    "    state = next_state                             # roll over the state to next time step\n",
    "    if done:                                       # exit loop if episode finished\n",
    "        break\n",
    "    \n",
    "print(\"Score: {}\".format(score))\n",
    "\"\"\""
   ]
  },
  {
   "cell_type": "markdown",
   "metadata": {},
   "source": [
    "When finished, you can close the environment."
   ]
  },
  {
   "cell_type": "code",
   "execution_count": 6,
   "metadata": {},
   "outputs": [],
   "source": [
    "#env.close()"
   ]
  },
  {
   "cell_type": "markdown",
   "metadata": {},
   "source": [
    "### 4. Training an agent to solve the environment\n",
    "\n",
    "In the following you find implementations of ```run_dqn()```, ```Agent()```, ```QNet()```, and ```ReplayBuffer()```. The environment is considered solved when the agent is able to receive an average reward (over 100 episodes) of at least +13. "
   ]
  },
  {
   "cell_type": "code",
   "execution_count": 7,
   "metadata": {},
   "outputs": [],
   "source": [
    "def run_dqn(agent, num_episodes, eps_strt, eps_end, eps_decay):\n",
    "    \"\"\" Run the dqn algorithm with an agent on given environment.\n",
    "    \n",
    "    Params\n",
    "    ======\n",
    "        agent: agent object (see Agent())\n",
    "        nume_episodes: maximum number of episodes to train\n",
    "        eps_strt: epsilon start value\n",
    "        eps_end: epsilon min value\n",
    "        eps_decay: epsilon decay value\n",
    "        \n",
    "    \"\"\"\n",
    "    scores = list()\n",
    "    scores_window = deque(maxlen=100)\n",
    "    eps = eps_strt\n",
    "    \n",
    "    for i_episode in range(1, num_episodes+1):\n",
    "        env_info = env.reset(train_mode=True)[brain_name]\n",
    "        state = env_info.vector_observations[0] # get the current state\n",
    "        score = 0 \n",
    "        \n",
    "        while True:\n",
    "            action = agent.select_action(state, eps)\n",
    "            env_info = env.step(action)[brain_name] \n",
    "            next_state, reward, done = env_info.vector_observations[0], env_info.rewards[0], env_info.local_done[0]\n",
    "            agent.step(state, action, next_state, reward, done)\n",
    "            score += reward\n",
    "            state = next_state\n",
    "            if done:\n",
    "                break\n",
    "        \n",
    "        scores.append(score)\n",
    "        scores_window.append(score)\n",
    "        eps = max(eps*eps_decay, eps_end)       # update epsilon\n",
    "        \n",
    "        print('\\r{}/{} Episode. Avg score {:.3f}'.format(i_episode, num_episodes, np.mean(scores_window)), end=\"\")\n",
    "        if i_episode % 100 == 0:\n",
    "            print('\\r{}/{} Episode. Avg score {:.3f}'.format(i_episode, num_episodes, np.mean(scores_window)))\n",
    "        \n",
    "        if np.mean(scores_window) >= 13:\n",
    "            # to solve the environment get an average score of +13 over 100 consecutive episodes.\n",
    "            print('\\rEnvironment solved after {} episodes'.format(i_episode))\n",
    "            torch.save(agent.qnet_local.state_dict(), 'checkpoint.pth')\n",
    "            break\n",
    "    \n",
    "    return scores"
   ]
  },
  {
   "cell_type": "code",
   "execution_count": 8,
   "metadata": {},
   "outputs": [],
   "source": [
    "import torch\n",
    "import torch.optim as optim\n",
    "\n",
    "\n",
    "SEED = 0               # random seed\n",
    "GAMMA = 0.99           # discounting factor\n",
    "EPS_STRT = 1.0         # epsilon start value\n",
    "EPS_END = 0.002        # epsilon end/minimum value\n",
    "EPS_DECAY = 0.99       # epsilon decay factor\n",
    "LR = 0.002             # learning rate\n",
    "TAU = 0.001            # factor for target soft update\n",
    "BUFFER_SIZE = 100000   # max replay buffer size\n",
    "BATCH_SIZE = 64        # batch size\n",
    "C = 4                  # update every C parameter\n",
    "\n",
    "device = torch.device('cuda0' if torch.cuda.is_available() else 'cpu')\n",
    "\n",
    "\n",
    "class Agent():\n",
    "    \"\"\" Agent that implements the dqn algorithm with experience replay and fixed q-targets \n",
    "    to interact with and learn from the game environment.\"\"\"\n",
    "    \n",
    "    def __init__(self, state_size, action_size, seed):\n",
    "        \"\"\" Initialize the Agent object.\n",
    "        Params\n",
    "        ======\n",
    "            state_size: dimension of each state\n",
    "            action_size: dimension of each action\n",
    "            seed: random seed\n",
    "        \"\"\"\n",
    "        self.state_size = state_size\n",
    "        self.action_size = action_size\n",
    "        self.seed = np.random.seed(seed)\n",
    "        self.step_t = 0 # init for update every C time steps\n",
    "        \n",
    "        # QNetwork\n",
    "        self.qnet_local = QNet(state_size, action_size, SEED)\n",
    "        self.qnet_target = QNet(state_size, action_size, SEED)\n",
    "        self.optimizer = optim.Adam(self.qnet_local.parameters(), lr=LR)\n",
    "        \n",
    "        # Replay buffer\n",
    "        self.buffer = ReplayBuffer(BUFFER_SIZE, BATCH_SIZE, device, SEED)\n",
    "\n",
    "    def select_action(self, state, eps):\n",
    "        \"\"\" Return epsilon greedy action.\"\"\"\n",
    "        self.qnet_local.eval()\n",
    "        state = torch.from_numpy(state).float().unsqueeze(0).to(device) # torch.Size([1, 37])\n",
    "        do_explore = np.random.random() < eps\n",
    "        \n",
    "        if do_explore: # random action\n",
    "            action = np.random.choice(np.arange(self.action_size))\n",
    "        else:\n",
    "            with torch.no_grad():\n",
    "                action = np.argmax(self.qnet_local.forward(state).cpu().data.numpy()) # .cpu().data.numpy() vs.numpy() ?\n",
    "        \n",
    "        self.qnet_local.train()\n",
    "        return action\n",
    "    \n",
    "    def step(self, state, action, next_state, reward, done):\n",
    "        \"\"\" Add experience to memory and make learning step.\"\"\"\n",
    "        self.buffer.add(state, action, next_state, reward, done)\n",
    "    \n",
    "        self.step_t = (self.step_t + 1) % C\n",
    "        if self.step_t == 0:\n",
    "            if len(self.buffer) > BATCH_SIZE:\n",
    "                self.learn()\n",
    "    \n",
    "    def learn(self):\n",
    "        \"\"\" Get batch of samples and update network parameters.\"\"\"\n",
    "        states, actions, next_states, rewards, dones = self.buffer.sample()\n",
    "        self.optimizer.zero_grad()\n",
    "        q_expected = self.qnet_local.forward(states).gather(1, actions) # torch.Size([64, 1])\n",
    "        q_targets_next = self.qnet_target.forward(next_states).max(1)[0].unsqueeze(1) # torch.Size([64, 1])\n",
    "        q_targets = rewards + (GAMMA * q_targets_next * (1 - dones))\n",
    "        loss = F.mse_loss(q_expected, q_targets)\n",
    "        loss.backward()\n",
    "        self.optimizer.step()\n",
    "        self.soft_update_target()\n",
    "    \n",
    "    def soft_update_target(self):\n",
    "        \"\"\" Copy local params to target params via Tau * local.params + (1-Tau) * target.params\"\"\"\n",
    "        for target_params, local_params in zip(self.qnet_target.parameters(), self.qnet_local.parameters()):\n",
    "            target_params.data.copy_(TAU * local_params.data + (1 - TAU) * target_params.data)\n",
    "            "
   ]
  },
  {
   "cell_type": "code",
   "execution_count": 9,
   "metadata": {},
   "outputs": [],
   "source": [
    "#import torch\n",
    "import torch.nn as nn\n",
    "import torch.nn.functional as F\n",
    "\n",
    "\n",
    "class QNet(nn.Module):\n",
    "    \"\"\" Policy neural network model that maps states to actions.\"\"\"\n",
    "    \n",
    "    def __init__(self, state_size, action_size, seed):\n",
    "        \"\"\" Initialize the neural net.\n",
    "        \n",
    "        Params\n",
    "        ======\n",
    "        state_size: dimension of each input state\n",
    "        action_size: dimension of each output\n",
    "        seed: random seed\n",
    "        \"\"\"\n",
    "        super().__init__()\n",
    "        self.seed = torch.manual_seed(seed)\n",
    "        \n",
    "        self.fc1 = nn.Linear(state_size, 128)\n",
    "        self.dropout = nn.Dropout(p=0.02)\n",
    "        self.fc2 = nn.Linear(128, 128)\n",
    "        self.fc3 = nn.Linear(128, 64)\n",
    "        self.fc4 = nn.Linear(64, 64)\n",
    "        self.fc5 = nn.Linear(64, action_size)\n",
    "    \n",
    "    def forward(self, state):\n",
    "        x = F.relu(self.fc1(state))\n",
    "        x = self.dropout(x)\n",
    "        x = F.relu(self.fc2(x))\n",
    "        x = self.dropout(x)\n",
    "        x = F.relu(self.fc3(x))\n",
    "        x = self.dropout(x)\n",
    "        x = F.relu(self.fc4(x))\n",
    "        x = self.dropout(x)\n",
    "        x = self.fc5(x)\n",
    "        \n",
    "        return x"
   ]
  },
  {
   "cell_type": "code",
   "execution_count": 10,
   "metadata": {},
   "outputs": [],
   "source": [
    "import random\n",
    "from collections import deque, namedtuple\n",
    "\n",
    "\n",
    "class ReplayBuffer():\n",
    "    \"\"\" Experience replay buffer to store experience tuples.\"\"\"\n",
    "    \n",
    "    def __init__(self, buffer_size, batch_size, device, seed):\n",
    "        \"\"\" Initialize replay buffer object.\n",
    "        Params\n",
    "        ======\n",
    "            buffer_size = max buffer size\n",
    "            batch_size = size of each batch of training samples\n",
    "            device = cpu/gpu\n",
    "            seed = random seed\n",
    "        \"\"\"\n",
    "        self.buffer_size = buffer_size\n",
    "        self.batch_size = batch_size\n",
    "        self.device = device\n",
    "        self.seed = random.seed(seed)\n",
    "        self.memory = deque(maxlen=self.buffer_size)\n",
    "        self.experience = namedtuple('Experience', field_names=['state', 'action', 'next_state', 'reward', 'done'])\n",
    "    \n",
    "    def add(self, state, action, next_state, reward, done):\n",
    "        \"\"\" Add new experience tuple to memory.\"\"\"\n",
    "        e = self.experience(state, action, next_state, reward, done)\n",
    "        self.memory.append(e)\n",
    "    \n",
    "    def sample(self):\n",
    "        \"\"\" Sample a batch of experience tuples from replay buffer\"\"\"\n",
    "        experiences = random.sample(self.memory, self.batch_size)\n",
    "        states = torch.from_numpy(np.vstack([e.state for e in experiences if not None])).float().to(self.device)\n",
    "        actions = torch.from_numpy(np.vstack([e.action for e in experiences if not None])).long().to(self.device)\n",
    "        next_states = torch.from_numpy(np.vstack([e.next_state for e in experiences if not None])).float().to(self.device)\n",
    "        rewards = torch.from_numpy(np.vstack([e.reward for e in experiences if not None])).float().to(self.device)\n",
    "        dones = torch.from_numpy(np.vstack([e.done for e in experiences if not None]).astype(np.uint8)).float().to(self.device)\n",
    "        \n",
    "        return (states, actions, next_states, rewards, dones)\n",
    "    \n",
    "    def __len__(self):\n",
    "        \"\"\" Return length of current buffer memory.\"\"\"\n",
    "        return len(self.memory)"
   ]
  },
  {
   "cell_type": "code",
   "execution_count": 11,
   "metadata": {},
   "outputs": [
    {
     "name": "stdout",
     "output_type": "stream",
     "text": [
      "100/2000 Episode. Avg score 0.210\n",
      "200/2000 Episode. Avg score 3.260\n",
      "300/2000 Episode. Avg score 8.510\n",
      "400/2000 Episode. Avg score 10.080\n",
      "500/2000 Episode. Avg score 10.480\n",
      "600/2000 Episode. Avg score 12.970\n",
      "Environment solved after 605 episodes\n",
      "The first time a score >= 13 was reached at episode 198.\n",
      "Max score reached:  23.0\n"
     ]
    }
   ],
   "source": [
    "agent = Agent(state_size, action_size, SEED)\n",
    "scores = run_dqn(agent, num_episodes=2000, eps_strt=EPS_STRT, eps_end=EPS_END, eps_decay=EPS_DECAY)\n",
    "env.close()\n",
    "\n",
    "scores = np.array(scores)\n",
    "x = np.where(scores >= 13)\n",
    "print('The first time a score >= 13 was reached at episode {}.'.format(x[0][0]))\n",
    "print('Max score reached: ', np.amax(scores))"
   ]
  },
  {
   "cell_type": "code",
   "execution_count": 12,
   "metadata": {},
   "outputs": [
    {
     "data": {
      "image/png": "[encoded data removed]",
      "text/plain": [
       "<Figure size 432x288 with 1 Axes>"
      ]
     },
     "metadata": {
      "needs_background": "light"
     },
     "output_type": "display_data"
    }
   ],
   "source": [
    "import matplotlib.pyplot as plt\n",
    "%matplotlib inline\n",
    "\n",
    "fig = plt.figure()\n",
    "ax = fig.add_subplot(111)\n",
    "plt.plot(np.arange(len(scores)), scores)\n",
    "plt.ylabel('Scores')\n",
    "plt.xlabel('Episodes')\n",
    "plt.show()"
   ]
  },
  {
   "cell_type": "markdown",
   "metadata": {},
   "source": [
    "### 5. Ideas for Future Work\n",
    "\n",
    "To reach even better results one can implement:\n",
    "- Double DQN (DDQN) (paper: [Deep Reinforcement Learning with Double Q-learning](https://arxiv.org/abs/1509.06461)),\n",
    "- Prioritized experience replay (paper: [Prioritized Experience Replay](https://arxiv.org/abs/1511.05952)), or\n",
    "- Dueling DQN (paper: [Dueling Network Architectures for Deep Reinforcement Learning](https://arxiv.org/abs/1511.06581)), or\n",
    "- going even further and combining improvements in RL (paper: [Rainbow: Combining Improvements in Deep Reinforcement Learning](https://arxiv.org/abs/1710.02298))\n",
    "\n",
    "\n",
    "This notebook is a project submission for the [Udacity Deep Reinforcement Learning Nanodegree](https://www.udacity.com/course/deep-reinforcement-learning-nanodegree--nd893). If you are interested to learn more about Deep Reinforcement Learning - I can highly recommend it."
   ]
  },
  {
   "cell_type": "code",
   "execution_count": null,
   "metadata": {},
   "outputs": [],
   "source": []
  }
 ],
 "metadata": {
  "kernelspec": {
   "display_name": "Python 3",
   "language": "python",
   "name": "python3"
  },
  "language_info": {
   "codemirror_mode": {
    "name": "ipython",
    "version": 3
   },
   "file_extension": ".py",
   "mimetype": "text/x-python",
   "name": "python",
   "nbconvert_exporter": "python",
   "pygments_lexer": "ipython3",
   "version": "3.6.7"
  }
 },
 "nbformat": 4,
 "nbformat_minor": 2
}
